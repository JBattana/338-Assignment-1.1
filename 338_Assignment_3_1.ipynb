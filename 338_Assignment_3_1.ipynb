{
  "nbformat": 4,
  "nbformat_minor": 0,
  "metadata": {
    "colab": {
      "provenance": [],
      "authorship_tag": "ABX9TyOLwFf57wGk9mkep7B67GZe",
      "include_colab_link": true
    },
    "kernelspec": {
      "name": "python3",
      "display_name": "Python 3"
    },
    "language_info": {
      "name": "python"
    }
  },
  "cells": [
    {
      "cell_type": "markdown",
      "metadata": {
        "id": "view-in-github",
        "colab_type": "text"
      },
      "source": [
        "<a href=\"https://colab.research.google.com/github/JBattana/338-Assignments/blob/main/338_Assignment_3_1.ipynb\" target=\"_parent\"><img src=\"https://colab.research.google.com/assets/colab-badge.svg\" alt=\"Open In Colab\"/></a>"
      ]
    },
    {
      "cell_type": "markdown",
      "source": [
        "Use the Web Analytics data set and answer the following questions:\n",
        "Dataset will be uploaded in the same repository"
      ],
      "metadata": {
        "id": "ceCW84BgKYMZ"
      }
    },
    {
      "cell_type": "markdown",
      "source": [
        "1. Perform Exploratory Data Analysis.Keep in mind, it is a very messy data.\n",
        "\n",
        "Check for null values\n",
        "\n",
        "Check for datatypes and convert datatypes accordingly.\n",
        "\n",
        "You can drop columns if you think they are causing errors.\n",
        "\n"
      ],
      "metadata": {
        "id": "TuvI76ppKjAI"
      }
    },
    {
      "cell_type": "code",
      "source": [
        "# Code here"
      ],
      "metadata": {
        "id": "bF4a5CPQLRCs"
      },
      "execution_count": null,
      "outputs": []
    },
    {
      "cell_type": "markdown",
      "source": [
        "2. Group the dataset by month of the year and calculate the average number of users for each month. Which month had the highest number of users?\n"
      ],
      "metadata": {
        "id": "Ft-fIECWK9oq"
      }
    },
    {
      "cell_type": "code",
      "source": [
        "# Code here"
      ],
      "metadata": {
        "id": "Mf__DXo9LQng"
      },
      "execution_count": null,
      "outputs": []
    },
    {
      "cell_type": "markdown",
      "source": [
        "3. There are also new users added to the existing users. Find out how many new users are added to the existing users and which month had highest new users\n"
      ],
      "metadata": {
        "id": "j8mGQ2S2LEIa"
      }
    },
    {
      "cell_type": "code",
      "source": [
        "# Code here"
      ],
      "metadata": {
        "id": "4tmTMy11LQMX"
      },
      "execution_count": null,
      "outputs": []
    },
    {
      "cell_type": "markdown",
      "source": [
        "4. Plot a histogram to visualize the distribution of pageviews across different sources/mediums."
      ],
      "metadata": {
        "id": "k9rFolnZLJfW"
      }
    },
    {
      "cell_type": "code",
      "source": [
        "# Code here"
      ],
      "metadata": {
        "id": "zWTSL5_9KmPY"
      },
      "execution_count": null,
      "outputs": []
    }
  ]
}