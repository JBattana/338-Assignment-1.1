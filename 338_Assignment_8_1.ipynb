{
  "nbformat": 4,
  "nbformat_minor": 0,
  "metadata": {
    "colab": {
      "provenance": [],
      "authorship_tag": "ABX9TyP44KyreSXY+KECnyEOsfKY",
      "include_colab_link": true
    },
    "kernelspec": {
      "name": "python3",
      "display_name": "Python 3"
    },
    "language_info": {
      "name": "python"
    }
  },
  "cells": [
    {
      "cell_type": "markdown",
      "metadata": {
        "id": "view-in-github",
        "colab_type": "text"
      },
      "source": [
        "<a href=\"https://colab.research.google.com/github/JBattana/338-Assignments/blob/main/338_Assignment_8_1.ipynb\" target=\"_parent\"><img src=\"https://colab.research.google.com/assets/colab-badge.svg\" alt=\"Open In Colab\"/></a>"
      ]
    },
    {
      "cell_type": "markdown",
      "source": [
        "**Assignment** **8**: **Real** **Estate** **Price** **Prediction** **and** **Model** **Evaluation**"
      ],
      "metadata": {
        "id": "71iBnsI6zQf5"
      }
    },
    {
      "cell_type": "markdown",
      "source": [
        "Load the real estate dataset provided in a CSV file as a Pandas data frame and explore the features in the data.\n"
      ],
      "metadata": {
        "id": "7p67aj7bzea5"
      }
    },
    {
      "cell_type": "code",
      "source": [
        "# Code here"
      ],
      "metadata": {
        "id": "Ydin32PKz5ze"
      },
      "execution_count": null,
      "outputs": []
    },
    {
      "cell_type": "markdown",
      "source": [
        "Separate the features (X) and the target variable (y), where the target variable is the house price per unit area.\n"
      ],
      "metadata": {
        "id": "UPmkgLtHzhfw"
      }
    },
    {
      "cell_type": "code",
      "source": [
        "# Code here"
      ],
      "metadata": {
        "id": "OJucYyJUz73r"
      },
      "execution_count": null,
      "outputs": []
    },
    {
      "cell_type": "markdown",
      "source": [
        "\n",
        "Write the code to one-hot encode the categorical features. Which columns were identified as categorical? Explain why this step must be taken."
      ],
      "metadata": {
        "id": "nx4vFMQkziTU"
      }
    },
    {
      "cell_type": "code",
      "source": [
        "# Code here"
      ],
      "metadata": {
        "id": "UpHxq4mez97m"
      },
      "execution_count": null,
      "outputs": []
    },
    {
      "cell_type": "markdown",
      "source": [
        "Split the data into training and testing sets using an 80-20 split."
      ],
      "metadata": {
        "id": "enVCCxMizl_y"
      }
    },
    {
      "cell_type": "code",
      "source": [
        "# Code here"
      ],
      "metadata": {
        "id": "kWnSSxwZz9Wu"
      },
      "execution_count": null,
      "outputs": []
    },
    {
      "cell_type": "markdown",
      "source": [
        "Train a Linear Regression model using the training data and evaluate its performance on the testing data. What are the Mean Squared Error (MSE) and R-squared (R^2) values for this model?\n"
      ],
      "metadata": {
        "id": "blk0UviQzpHA"
      }
    },
    {
      "cell_type": "code",
      "source": [
        "# Code here"
      ],
      "metadata": {
        "id": "qkh0fcS3z-gG"
      },
      "execution_count": null,
      "outputs": []
    },
    {
      "cell_type": "markdown",
      "source": [
        "Similarly, train a Decision Tree Regression model. What are the MSE and R^2 values for this model?\n"
      ],
      "metadata": {
        "id": "NFCVXI5dzsTL"
      }
    },
    {
      "cell_type": "code",
      "source": [
        "# Code here"
      ],
      "metadata": {
        "id": "42-CIXKXz--V"
      },
      "execution_count": null,
      "outputs": []
    },
    {
      "cell_type": "markdown",
      "source": [
        "Create a bar plot to compare the MSE and R^2 values of the two models (Linear Regression, Decision Tree Regression). Which model had the lowest MSE and which model had the highest R^2 value?\n"
      ],
      "metadata": {
        "id": "yRw2bwG5zvKF"
      }
    },
    {
      "cell_type": "code",
      "source": [
        "# Code here"
      ],
      "metadata": {
        "id": "TYUhtK7Nz_Yn"
      },
      "execution_count": null,
      "outputs": []
    },
    {
      "cell_type": "markdown",
      "source": [
        "Based on the MSE and R^2 values, which model performed the best? Explain why you think this model performed better than the other?"
      ],
      "metadata": {
        "id": "6Uod9vmAz3pz"
      }
    },
    {
      "cell_type": "code",
      "source": [
        "# Code here"
      ],
      "metadata": {
        "id": "ZWlMQlelz_6r"
      },
      "execution_count": null,
      "outputs": []
    }
  ]
}