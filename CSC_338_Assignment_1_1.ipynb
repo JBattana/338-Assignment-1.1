{
  "nbformat": 4,
  "nbformat_minor": 0,
  "metadata": {
    "colab": {
      "provenance": [],
      "authorship_tag": "ABX9TyO80MjMWRuGlt9r5TZM6Ud/",
      "include_colab_link": true
    },
    "kernelspec": {
      "name": "python3",
      "display_name": "Python 3"
    },
    "language_info": {
      "name": "python"
    }
  },
  "cells": [
    {
      "cell_type": "markdown",
      "metadata": {
        "id": "view-in-github",
        "colab_type": "text"
      },
      "source": [
        "<a href=\"https://colab.research.google.com/github/JBattana/338-Assignment-1.1/blob/main/CSC_338_Assignment_1_1.ipynb\" target=\"_parent\"><img src=\"https://colab.research.google.com/assets/colab-badge.svg\" alt=\"Open In Colab\"/></a>"
      ]
    },
    {
      "cell_type": "markdown",
      "source": [
        "1. You have a list of integers: numbers = [10, 20, 30, 40, 50].\n",
        "Write a Python program to create a new list squared_numbers that contains the square of each number in the original list."
      ],
      "metadata": {
        "id": "fKq5Q8HWqa6x"
      }
    },
    {
      "cell_type": "code",
      "execution_count": null,
      "metadata": {
        "id": "OltupfDvZAfd"
      },
      "outputs": [],
      "source": [
        "# Answer here"
      ]
    },
    {
      "cell_type": "markdown",
      "source": [
        "2. Given a tuple person = (\"Adam Smith\", 35, \"Software Engineer\"). Write a Python program to unpack the tuple into three separate variables: name, age, and profession."
      ],
      "metadata": {
        "id": "5JfVUb13qpr7"
      }
    },
    {
      "cell_type": "code",
      "execution_count": null,
      "metadata": {
        "id": "lXiVNrnmq8iI"
      },
      "outputs": [],
      "source": [
        "# Answer here"
      ]
    },
    {
      "cell_type": "markdown",
      "source": [
        "3. Write a Python code to create a list squares that contains the squares of all the even numbers in the range 1 to 20 (inclusive)."
      ],
      "metadata": {
        "id": "2UlyqYbiq-bo"
      }
    },
    {
      "cell_type": "code",
      "source": [
        "# Answer here"
      ],
      "metadata": {
        "id": "CFDP88elq8_v"
      },
      "execution_count": null,
      "outputs": []
    },
    {
      "cell_type": "markdown",
      "source": [
        "4. Write a function that takes a list of integers as input and groups them into two lists: one containing even numbers and the other containing odd numbers. Use list comprehension or loops to implement this grouping operation."
      ],
      "metadata": {
        "id": "XlQpr_-3rhXm"
      }
    },
    {
      "cell_type": "code",
      "source": [
        "# Answer here"
      ],
      "metadata": {
        "id": "cVfAjIhtrvuF"
      },
      "execution_count": null,
      "outputs": []
    },
    {
      "cell_type": "markdown",
      "source": [
        "5. Suppose you have two lists\n",
        "\n",
        "first_name = [\"Adam\", \"Jane\", \"Bob\"]\n",
        "\n",
        "last_name = [\"Johnson\", \"Smith\", \"Jones\"].\n",
        "\n",
        "Write a Python program to create a new list full_names that contains the full names by concatenating the corresponding elements from first_name and last_name"
      ],
      "metadata": {
        "id": "7PYX3bhnrx9U"
      }
    },
    {
      "cell_type": "code",
      "source": [
        "# Answer here"
      ],
      "metadata": {
        "id": "SQtLr3jesORv"
      },
      "execution_count": null,
      "outputs": []
    }
  ]
}