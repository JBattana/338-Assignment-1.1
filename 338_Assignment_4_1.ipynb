{
  "nbformat": 4,
  "nbformat_minor": 0,
  "metadata": {
    "colab": {
      "provenance": [],
      "authorship_tag": "ABX9TyPy05VWqUVa7RWzgrP6K4wq",
      "include_colab_link": true
    },
    "kernelspec": {
      "name": "python3",
      "display_name": "Python 3"
    },
    "language_info": {
      "name": "python"
    }
  },
  "cells": [
    {
      "cell_type": "markdown",
      "metadata": {
        "id": "view-in-github",
        "colab_type": "text"
      },
      "source": [
        "<a href=\"https://colab.research.google.com/github/JBattana/338-Assignments/blob/main/338_Assignment_4_1.ipynb\" target=\"_parent\"><img src=\"https://colab.research.google.com/assets/colab-badge.svg\" alt=\"Open In Colab\"/></a>"
      ]
    },
    {
      "cell_type": "markdown",
      "source": [
        "Import the dataset using the following command and perform the data visualizations."
      ],
      "metadata": {
        "id": "AehwgbMOgLSO"
      }
    },
    {
      "cell_type": "code",
      "source": [
        "import seaborn as sns\n",
        "df = sns.load_dataset(\"car_crashes\")"
      ],
      "metadata": {
        "id": "dUvRoENegRkJ"
      },
      "execution_count": 1,
      "outputs": []
    },
    {
      "cell_type": "markdown",
      "source": [
        "1. What is the distribution of the number of car crashes across different states?\n",
        "\n",
        "Use a histogram or bar plot to understand the frequency of car crashes in each state."
      ],
      "metadata": {
        "id": "JSH9Pz2ue5cs"
      }
    },
    {
      "cell_type": "code",
      "source": [
        "# Code here"
      ],
      "metadata": {
        "id": "cTbs8Gr7gB1o"
      },
      "execution_count": null,
      "outputs": []
    },
    {
      "cell_type": "markdown",
      "source": [
        "2. Is there a relationship between alcohol consumption and the number of car crashes?\n",
        "\n",
        "Use a scatter plot with alcohol consumption as one variable and the number of car crashes as the other."
      ],
      "metadata": {
        "id": "FcmaAA5DfA07"
      }
    },
    {
      "cell_type": "code",
      "source": [
        "# Code here"
      ],
      "metadata": {
        "id": "ozlS3eXwgEMk"
      },
      "execution_count": null,
      "outputs": []
    },
    {
      "cell_type": "markdown",
      "source": [
        "3. How does the number of car crashes vary with different factors such as speeding or insurances?\n",
        "\n",
        "Use a box plots to compare the number of car crashes across different levels of speeding or insurance factors."
      ],
      "metadata": {
        "id": "byeH4eCofIDZ"
      }
    },
    {
      "cell_type": "code",
      "source": [
        "# Code here"
      ],
      "metadata": {
        "id": "e0kL0Ya4gEte"
      },
      "execution_count": null,
      "outputs": []
    },
    {
      "cell_type": "markdown",
      "source": [
        "4. Are there correlations between factors such as speeding, alcohol involvement, and insurance premiums in relation to car crashes?\n",
        "\n",
        "Use pair plots or correlation matrix to identify relationships between factors contributing to accidents."
      ],
      "metadata": {
        "id": "GVnv-XGQfQ8E"
      }
    },
    {
      "cell_type": "code",
      "source": [
        "# Code here"
      ],
      "metadata": {
        "id": "flAnWsuJgFGR"
      },
      "execution_count": null,
      "outputs": []
    },
    {
      "cell_type": "markdown",
      "source": [
        "5. How does the number of car crashes change over time?\n",
        "\n",
        "Create a line plot to visualize the trend of car crashes over different years or months to identify any  patterns."
      ],
      "metadata": {
        "id": "fwm2_8gmfpsM"
      }
    },
    {
      "cell_type": "code",
      "source": [
        "# Code here"
      ],
      "metadata": {
        "id": "-H-17Cf2gFfJ"
      },
      "execution_count": null,
      "outputs": []
    }
  ]
}