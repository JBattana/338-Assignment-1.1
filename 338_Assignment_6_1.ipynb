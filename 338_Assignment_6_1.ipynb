{
  "nbformat": 4,
  "nbformat_minor": 0,
  "metadata": {
    "colab": {
      "provenance": [],
      "authorship_tag": "ABX9TyMIjhbyOZBTUwHSLZDp7SCG",
      "include_colab_link": true
    },
    "kernelspec": {
      "name": "python3",
      "display_name": "Python 3"
    },
    "language_info": {
      "name": "python"
    }
  },
  "cells": [
    {
      "cell_type": "markdown",
      "metadata": {
        "id": "view-in-github",
        "colab_type": "text"
      },
      "source": [
        "<a href=\"https://colab.research.google.com/github/JBattana/338-Assignments/blob/main/338_Assignment_6_1.ipynb\" target=\"_parent\"><img src=\"https://colab.research.google.com/assets/colab-badge.svg\" alt=\"Open In Colab\"/></a>"
      ]
    },
    {
      "cell_type": "markdown",
      "source": [
        "**Use the heart attacks dataset to perform logistic regression and predict the values and evaluate the accuracy in which your model has performed.**"
      ],
      "metadata": {
        "id": "zgCkBRNSAeeO"
      }
    },
    {
      "cell_type": "markdown",
      "source": [
        "Load the necessary libraries"
      ],
      "metadata": {
        "id": "7rIhf-id-uag"
      }
    },
    {
      "cell_type": "code",
      "source": [
        "# Code here"
      ],
      "metadata": {
        "id": "RLcKd11V-vN5"
      },
      "execution_count": null,
      "outputs": []
    },
    {
      "cell_type": "markdown",
      "source": [
        "Load dataset as a Pandas dataframe"
      ],
      "metadata": {
        "id": "577DkkBb-w47"
      }
    },
    {
      "cell_type": "code",
      "source": [
        "# Code here"
      ],
      "metadata": {
        "id": "4EsvyYFd-45S"
      },
      "execution_count": null,
      "outputs": []
    },
    {
      "cell_type": "markdown",
      "source": [
        "Perform Exploratory Data Analysis. You can visualize any features at this point. (Use Groupby/ summary statistics etc)"
      ],
      "metadata": {
        "id": "ssfWa99Z-8SD"
      }
    },
    {
      "cell_type": "code",
      "source": [
        "# Code here"
      ],
      "metadata": {
        "id": "ocOEG-T5-7c-"
      },
      "execution_count": null,
      "outputs": []
    },
    {
      "cell_type": "markdown",
      "source": [
        "Clean the data where necessary - null values, data types, change in feature names. Save the clean data as a new data frame for further analysis"
      ],
      "metadata": {
        "id": "mFkOlOmP_HMy"
      }
    },
    {
      "cell_type": "code",
      "source": [
        "# Code here"
      ],
      "metadata": {
        "id": "DP8iuFCe_G8p"
      },
      "execution_count": null,
      "outputs": []
    },
    {
      "cell_type": "markdown",
      "source": [
        "Apply Logistic Regression model and fit the data  \n",
        "\n",
        "(If needed, you will have to transform categorical data into dummy variables)\n"
      ],
      "metadata": {
        "id": "qzYMTxRn_SvV"
      }
    },
    {
      "cell_type": "code",
      "source": [
        "# Code here\n"
      ],
      "metadata": {
        "id": "UnCVOyhw_cmn"
      },
      "execution_count": null,
      "outputs": []
    },
    {
      "cell_type": "markdown",
      "source": [
        "Show performance metrics - Determining the Accuracy on which the model has performed ROC, AUC"
      ],
      "metadata": {
        "id": "jnDwibtj_dAo"
      }
    },
    {
      "cell_type": "code",
      "source": [
        "# Code here\n"
      ],
      "metadata": {
        "id": "nPUSi5_F_hWf"
      },
      "execution_count": null,
      "outputs": []
    },
    {
      "cell_type": "markdown",
      "source": [
        "Show a correlation matrix between actual values vs predicted values ans explain your insights"
      ],
      "metadata": {
        "id": "Z1EJaoBL_iLn"
      }
    },
    {
      "cell_type": "code",
      "source": [
        "# Code here\n"
      ],
      "metadata": {
        "id": "MS7LPOit_vRI"
      },
      "execution_count": null,
      "outputs": []
    },
    {
      "cell_type": "markdown",
      "source": [
        "You can also use 1 independent feature and the target to show the fit of data in a sigmoid curve through visualization"
      ],
      "metadata": {
        "id": "bgRPqBWi_v96"
      }
    },
    {
      "cell_type": "code",
      "source": [
        "# Code here"
      ],
      "metadata": {
        "id": "xO1rHvQ5_vuC"
      },
      "execution_count": null,
      "outputs": []
    },
    {
      "cell_type": "markdown",
      "source": [
        "**Note**:\n",
        "\n",
        "Explain your insights at every step, what you interpret from the visualizations or at the end and conclude the outputs that show up after running your code."
      ],
      "metadata": {
        "id": "VfSKGJHzAB0e"
      }
    }
  ]
}