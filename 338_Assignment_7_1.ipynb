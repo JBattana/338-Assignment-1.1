{
  "nbformat": 4,
  "nbformat_minor": 0,
  "metadata": {
    "colab": {
      "provenance": [],
      "authorship_tag": "ABX9TyNUjOGVggYawA9F+SXWHkXR",
      "include_colab_link": true
    },
    "kernelspec": {
      "name": "python3",
      "display_name": "Python 3"
    },
    "language_info": {
      "name": "python"
    }
  },
  "cells": [
    {
      "cell_type": "markdown",
      "metadata": {
        "id": "view-in-github",
        "colab_type": "text"
      },
      "source": [
        "<a href=\"https://colab.research.google.com/github/JBattana/338-Assignments/blob/main/338_Assignment_7_1.ipynb\" target=\"_parent\"><img src=\"https://colab.research.google.com/assets/colab-badge.svg\" alt=\"Open In Colab\"/></a>"
      ]
    },
    {
      "cell_type": "markdown",
      "source": [
        "**Week** **7** -  **Assignment**"
      ],
      "metadata": {
        "id": "jRLPPML3P-fQ"
      }
    },
    {
      "cell_type": "markdown",
      "source": [
        "\n",
        "\n",
        "Use the KNN Algorithm to train the ML model with the heart attacks data to classify if there is a risk of having a heart attack for a person based on the independent variables."
      ],
      "metadata": {
        "id": "0rH0DOVfPrTo"
      }
    },
    {
      "cell_type": "code",
      "execution_count": null,
      "metadata": {
        "id": "xX5E00eBB1TC"
      },
      "outputs": [],
      "source": [
        "# Code here"
      ]
    },
    {
      "cell_type": "markdown",
      "source": [
        "**Answer** **the** **following** **questions**:\n",
        "\n",
        "Note: Show the code implementation if needed or answer in a sentence or two"
      ],
      "metadata": {
        "id": "fMcZ81ndP2so"
      }
    },
    {
      "cell_type": "markdown",
      "source": [
        "1. How did you handle missing values in the dataset? Did you remove the rows/columns or fill in the values with the mean of the column? Explain why  "
      ],
      "metadata": {
        "id": "RWgvvmIYQcPL"
      }
    },
    {
      "cell_type": "markdown",
      "source": [
        "2. If the dataset contains categorical features, how did you encode them for use with the KNN algorithm?\n",
        "(If there are no categorical features in this dataset, just go through a sample dataset which has categorical features and learn how you approach that)"
      ],
      "metadata": {
        "id": "PuMpPNmaQfYz"
      }
    },
    {
      "cell_type": "markdown",
      "source": [
        "3. How did you choose the optimal value of K for the KNN algorithm? Explain the approach/ Code"
      ],
      "metadata": {
        "id": "hrocVkA-Q99M"
      }
    },
    {
      "cell_type": "markdown",
      "source": [
        "4. What distance metric did you use for the KNN algorithm (Euclidean/ Manhattan or any other)?\n",
        "\n",
        "    Explain how a distance metric would impact your model's performance."
      ],
      "metadata": {
        "id": "2LpUItTZREH9"
      }
    },
    {
      "cell_type": "markdown",
      "source": [
        "5. How did the KNN model's performance compare to the logistic regression model you implemented last week? Explain which had a better accuracy in the context of this dataset."
      ],
      "metadata": {
        "id": "jAYiXHM5RV5a"
      }
    },
    {
      "cell_type": "markdown",
      "source": [
        "6. How did you interpret the results of the KNN model?\n",
        "\n",
        "   Share your insights into what features were significant for predicting risk of a heart attacks based on the model's decisions?"
      ],
      "metadata": {
        "id": "hisrKrSqRs8J"
      }
    }
  ]
}